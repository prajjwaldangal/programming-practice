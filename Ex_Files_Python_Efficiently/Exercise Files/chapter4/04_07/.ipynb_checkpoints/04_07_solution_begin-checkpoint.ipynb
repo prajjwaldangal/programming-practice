{
 "cells": [
  {
   "cell_type": "markdown",
   "metadata": {},
   "source": [
    "### Python module/package imports for this chapter"
   ]
  },
  {
   "cell_type": "code",
   "execution_count": 49,
   "metadata": {},
   "outputs": [],
   "source": [
    "import sys, os, math, random, functools\n",
    "\n",
    "import numpy as np\n",
    "\n",
    "import matplotlib\n",
    "import matplotlib.pyplot as pp\n",
    "import matplotlib.animation as anim\n",
    "\n",
    "%matplotlib inline\n",
    "\n",
    "from IPython.display import display, HTML"
   ]
  },
  {
   "cell_type": "markdown",
   "metadata": {
    "collapsed": true
   },
   "source": [
    "### Code from previous videos"
   ]
  },
  {
   "cell_type": "code",
   "execution_count": 50,
   "metadata": {},
   "outputs": [],
   "source": [
    "from turtle import Turtle, Terrarium"
   ]
  },
  {
   "cell_type": "code",
   "execution_count": 51,
   "metadata": {},
   "outputs": [],
   "source": [
    "def fb(turtle,distance):\n",
    "    turtle.forward(distance)\n",
    "    turtle.back(distance)\n",
    "\n",
    "Turtle.fb = fb"
   ]
  },
  {
   "cell_type": "code",
   "execution_count": 52,
   "metadata": {},
   "outputs": [],
   "source": [
    "def F(dist):\n",
    "    return functools.partial(Turtle.forward,distance=dist)\n",
    "\n",
    "def L(ang):\n",
    "    return functools.partial(Turtle.left,angle=ang)"
   ]
  },
  {
   "cell_type": "code",
   "execution_count": 53,
   "metadata": {},
   "outputs": [],
   "source": [
    "def iterated(f,n):\n",
    "    def iterf(arg):\n",
    "        ret = arg\n",
    "        for i in range(n):\n",
    "            ret = f(ret)\n",
    "        return ret\n",
    "    \n",
    "    return iterf"
   ]
  },
  {
   "cell_type": "code",
   "execution_count": 78,
   "metadata": {},
   "outputs": [],
   "source": [
    "def snowflake(turtle, dst, level):\n",
    "    for i in range(3):\n",
    "        drawKoch(turtle, dst, level)\n",
    "        turtle.right(120)\n",
    "        \n",
    "def drawKoch(turtle,distance,level):\n",
    "    if level == 0:\n",
    "        turtle.forward(distance)\n",
    "    else:\n",
    "        drawKoch(turtle, distance/3, level-1)\n",
    "        turtle.left(60)\n",
    "        drawKoch(turtle, distance/3, level-1)\n",
    "        turtle.left(-120)\n",
    "        drawKoch(turtle, distance/3, level-1)\n",
    "        turtle.left(60)\n",
    "        drawKoch(turtle, distance/3, level-1)"
   ]
  },
  {
   "cell_type": "code",
   "execution_count": 80,
   "metadata": {},
   "outputs": [
    {
     "data": {
      "image/png": "[encoded data removed]",
      "text/plain": [
       "<Figure size 360x360 with 1 Axes>"
      ]
     },
     "metadata": {},
     "output_type": "display_data"
    }
   ],
   "source": [
    "with Terrarium() as t:\n",
    "    \n",
    "    t1 = Turtle(t)\n",
    "    snowflake(t1, 2, 4)"
   ]
  },
  {
   "cell_type": "markdown",
   "metadata": {},
   "source": [
    "### A fractal tree: solution"
   ]
  },
  {
   "cell_type": "code",
   "execution_count": 26,
   "metadata": {},
   "outputs": [],
   "source": [
    "Turtle.iterated = iterated\n",
    "# t = Terrarium(animate=True)\n",
    "# with Terrarium(animate=True) as t:\n",
    "#     t2 = Turtle(t)\n",
    "#     iterated(Turtle.fb, 3)"
   ]
  },
  {
   "cell_type": "code",
   "execution_count": 29,
   "metadata": {},
   "outputs": [
    {
     "name": "stdout",
     "output_type": "stream",
     "text": [
      "[1, 2, 1]\n"
     ]
    }
   ],
   "source": [
    "# help(functools)\n",
    "def foo(f):\n",
    "    f.append(1)\n",
    "ls = [1,2]\n",
    "foo(ls)\n",
    "print(ls)"
   ]
  },
  {
   "cell_type": "code",
   "execution_count": null,
   "metadata": {},
   "outputs": [],
   "source": [
    "with Terrarium as t:\n",
    "    drawkoch(t, )"
   ]
  }
 ],
 "metadata": {
  "anaconda-cloud": {},
  "kernelspec": {
   "display_name": "Python 3",
   "language": "python",
   "name": "python3"
  },
  "language_info": {
   "codemirror_mode": {
    "name": "ipython",
    "version": 3
   },
   "file_extension": ".py",
   "mimetype": "text/x-python",
   "name": "python",
   "nbconvert_exporter": "python",
   "pygments_lexer": "ipython3",
   "version": "3.7.6"
  }
 },
 "nbformat": 4,
 "nbformat_minor": 1
}
