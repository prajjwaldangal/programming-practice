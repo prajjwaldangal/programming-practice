{
 "cells": [
  {
   "cell_type": "markdown",
   "metadata": {},
   "source": [
    "### Python module/package imports for this chapter"
   ]
  },
  {
   "cell_type": "code",
   "execution_count": 2,
   "metadata": {},
   "outputs": [],
   "source": [
    "import os, sys, collections, re, json, io, base64"
   ]
  },
  {
   "cell_type": "markdown",
   "metadata": {},
   "source": [
    "**March 2020 update**: the Basemap installation can be finicky. In the Anaconda distribution, if\n",
    "\n",
    "    conda install basemap\n",
    "\n",
    "fails, you can try `conda install -c conda-forge basemap`. However, the package must be installed in a conda environment, which you create with (say)\n",
    "\n",
    "    conda create -n myenv\n",
    "\n",
    "and activate with\n",
    "\n",
    "    source activate myenv\n",
    "    \n",
    "If you get an error that `PROJ_LIB` (or another variable) is not defined, try restarting the Jupyter server, or re-activating the environment. "
   ]
  },
  {
   "cell_type": "code",
   "execution_count": 3,
   "metadata": {},
   "outputs": [],
   "source": [
    "import numpy as np\n",
    "\n",
    "import matplotlib\n",
    "import matplotlib.pyplot as pp\n",
    "import matplotlib.animation as anim\n",
    "from mpl_toolkits.basemap import Basemap\n",
    "\n",
    "%matplotlib inline"
   ]
  },
  {
   "cell_type": "code",
   "execution_count": 4,
   "metadata": {},
   "outputs": [],
   "source": [
    "import requests\n",
    "import bs4      # BeautifulSoup 4"
   ]
  },
  {
   "cell_type": "code",
   "execution_count": 5,
   "metadata": {},
   "outputs": [],
   "source": [
    "import IPython.display\n",
    "import PIL, PIL.Image, PIL.ImageOps, PIL.ImageEnhance  # Python Imaging Library - now \"pillow\""
   ]
  },
  {
   "cell_type": "markdown",
   "metadata": {},
   "source": [
    "## Making a Martian roll-through with `matplotlib`"
   ]
  },
  {
   "cell_type": "code",
   "execution_count": 6,
   "metadata": {},
   "outputs": [
    {
     "data": {
      "text/plain": [
       "['<msl>\\n',\n",
       " '  <location>\\n',\n",
       " '    <site>00000</site>\\n',\n",
       " '    <itemName>0000000000</itemName>\\n',\n",
       " '    <lon>137.4416334989196</lon>\\n',\n",
       " '    <rot>0.014572, -0.034982, 0.831579, 0.554112</rot>\\n',\n",
       " '    <endSol>00000</endSol>\\n',\n",
       " '    <dateAdded>2020-03-13T14:38:59Z</dateAdded>\\n',\n",
       " '    <startSol>00000</startSol>\\n',\n",
       " '    <arrivalTime>2012-08-05T13:49:59Z</arrivalTime>\\n',\n",
       " '    <mapPixelH>82253.03164549096</mapPixelH>\\n',\n",
       " '    <drive>00000</drive>\\n',\n",
       " '    <contributor>Team MSLICE</contributor>\\n',\n",
       " '    <mapPixelV>123500.99039381815</mapPixelV>\\n',\n",
       " '    <z>0.0</z>\\n',\n",
       " '    <lat>-4.5894669521344875</lat>\\n',\n",
       " '    <y>0.0</y>\\n',\n",
       " '    <x>0.0</x>\\n',\n",
       " '  </location>\\n']"
      ]
     },
     "execution_count": 6,
     "metadata": {},
     "output_type": "execute_result"
    }
   ],
   "source": [
    "open('locations.xml','r').readlines()[:19]"
   ]
  },
  {
   "cell_type": "code",
   "execution_count": 8,
   "metadata": {},
   "outputs": [],
   "source": [
    "xml = bs4.BeautifulSoup(open('locations.xml','r'), 'lxml-xml')"
   ]
  },
  {
   "cell_type": "code",
   "execution_count": 11,
   "metadata": {},
   "outputs": [],
   "source": [
    "locations = xml.find_all('location')"
   ]
  },
  {
   "cell_type": "code",
   "execution_count": 12,
   "metadata": {},
   "outputs": [],
   "source": [
    "l = len(locations)"
   ]
  },
  {
   "cell_type": "code",
   "execution_count": null,
   "metadata": {},
   "outputs": [],
   "source": [
    "coords = collections.OrderedDict()\n",
    "\n",
    "for location in locations:\n",
    "    coords[location.site.string] = (float(location.lon.string),float(location.lat.string))\n",
    "\n",
    "lonlat = np.fromiter(coords.values(),dtype=[('lon','d'),('lat','d')], count=l)"
   ]
  },
  {
   "cell_type": "code",
   "execution_count": 10,
   "metadata": {},
   "outputs": [
    {
     "name": "stdout",
     "output_type": "stream",
     "text": [
      "Help on built-in function fromiter in module numpy:\n",
      "\n",
      "fromiter(...)\n",
      "    fromiter(iterable, dtype, count=-1)\n",
      "    \n",
      "    Create a new 1-dimensional array from an iterable object.\n",
      "    \n",
      "    Parameters\n",
      "    ----------\n",
      "    iterable : iterable object\n",
      "        An iterable object providing data for the array.\n",
      "    dtype : data-type\n",
      "        The data-type of the returned array.\n",
      "    count : int, optional\n",
      "        The number of items to read from *iterable*.  The default is -1,\n",
      "        which means all data is read.\n",
      "    \n",
      "    Returns\n",
      "    -------\n",
      "    out : ndarray\n",
      "        The output array.\n",
      "    \n",
      "    Notes\n",
      "    -----\n",
      "    Specify `count` to improve performance.  It allows ``fromiter`` to\n",
      "    pre-allocate the output array, instead of resizing it on demand.\n",
      "    \n",
      "    Examples\n",
      "    --------\n",
      "    >>> iterable = (x*x for x in range(5))\n",
      "    >>> np.fromiter(iterable, float)\n",
      "    array([  0.,   1.,   4.,   9.,  16.])\n",
      "\n"
     ]
    }
   ],
   "source": [
    "help(np.fromiter)"
   ]
  },
  {
   "cell_type": "code",
   "execution_count": null,
   "metadata": {},
   "outputs": [],
   "source": []
  }
 ],
 "metadata": {
  "kernelspec": {
   "display_name": "Python 3",
   "language": "python",
   "name": "python3"
  },
  "language_info": {
   "codemirror_mode": {
    "name": "ipython",
    "version": 3
   },
   "file_extension": ".py",
   "mimetype": "text/x-python",
   "name": "python",
   "nbconvert_exporter": "python",
   "pygments_lexer": "ipython3",
   "version": "3.7.6"
  }
 },
 "nbformat": 4,
 "nbformat_minor": 1
}
