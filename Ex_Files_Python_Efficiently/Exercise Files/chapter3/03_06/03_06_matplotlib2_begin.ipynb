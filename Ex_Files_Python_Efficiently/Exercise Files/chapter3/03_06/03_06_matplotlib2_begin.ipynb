{
 "cells": [
  {
   "cell_type": "markdown",
   "metadata": {},
   "source": [
    "### Python module/package imports for this chapter"
   ]
  },
  {
   "cell_type": "code",
   "execution_count": 2,
   "metadata": {},
   "outputs": [],
   "source": [
    "import os, sys, collections, re, json, io, base64"
   ]
  },
  {
   "cell_type": "markdown",
   "metadata": {},
   "source": [
    "**March 2020 update**: the Basemap installation can be finicky. In the Anaconda distribution, if\n",
    "\n",
    "    conda install basemap\n",
    "\n",
    "fails, you can try `conda install -c conda-forge basemap`. However, the package must be installed in a conda environment, which you create with (say)\n",
    "\n",
    "    conda create -n myenv\n",
    "\n",
    "and activate with\n",
    "\n",
    "    source activate myenv\n",
    "    \n",
    "If you get an error that `PROJ_LIB` (or another variable) is not defined, try restarting the Jupyter server, or re-activating the environment. "
   ]
  },
  {
   "cell_type": "code",
   "execution_count": 3,
   "metadata": {},
   "outputs": [],
   "source": [
    "import numpy as np\n",
    "\n",
    "import matplotlib\n",
    "import matplotlib.pyplot as pp\n",
    "import matplotlib.animation as anim\n",
    "from mpl_toolkits.basemap import Basemap\n",
    "\n",
    "%matplotlib inline"
   ]
  },
  {
   "cell_type": "code",
   "execution_count": 4,
   "metadata": {},
   "outputs": [],
   "source": [
    "import requests\n",
    "import bs4      # BeautifulSoup 4"
   ]
  },
  {
   "cell_type": "code",
   "execution_count": 5,
   "metadata": {},
   "outputs": [],
   "source": [
    "import IPython.display\n",
    "import PIL, PIL.Image, PIL.ImageOps, PIL.ImageEnhance  # Python Imaging Library - now \"pillow\""
   ]
  },
  {
   "cell_type": "markdown",
   "metadata": {},
   "source": [
    "## Making a Martian roll-through with `matplotlib`"
   ]
  },
  {
   "cell_type": "code",
   "execution_count": 6,
   "metadata": {},
   "outputs": [
    {
     "data": {
      "text/plain": [
       "['<msl>\\n',\n",
       " '  <location>\\n',\n",
       " '    <site>00000</site>\\n',\n",
       " '    <itemName>0000000000</itemName>\\n',\n",
       " '    <lon>137.4416334989196</lon>\\n',\n",
       " '    <rot>0.014572, -0.034982, 0.831579, 0.554112</rot>\\n',\n",
       " '    <endSol>00000</endSol>\\n',\n",
       " '    <dateAdded>2020-03-13T14:38:59Z</dateAdded>\\n',\n",
       " '    <startSol>00000</startSol>\\n',\n",
       " '    <arrivalTime>2012-08-05T13:49:59Z</arrivalTime>\\n',\n",
       " '    <mapPixelH>82253.03164549096</mapPixelH>\\n',\n",
       " '    <drive>00000</drive>\\n',\n",
       " '    <contributor>Team MSLICE</contributor>\\n',\n",
       " '    <mapPixelV>123500.99039381815</mapPixelV>\\n',\n",
       " '    <z>0.0</z>\\n',\n",
       " '    <lat>-4.5894669521344875</lat>\\n',\n",
       " '    <y>0.0</y>\\n',\n",
       " '    <x>0.0</x>\\n',\n",
       " '  </location>\\n']"
      ]
     },
     "execution_count": 6,
     "metadata": {},
     "output_type": "execute_result"
    }
   ],
   "source": [
    "open('locations.xml','r').readlines()[:19]"
   ]
  },
  {
   "cell_type": "code",
   "execution_count": 8,
   "metadata": {},
   "outputs": [],
   "source": [
    "xml = bs4.BeautifulSoup(open('locations.xml','r'), 'lxml-xml')"
   ]
  },
  {
   "cell_type": "code",
   "execution_count": 11,
   "metadata": {},
   "outputs": [],
   "source": [
    "locations = xml.find_all('location')"
   ]
  },
  {
   "cell_type": "code",
   "execution_count": 12,
   "metadata": {},
   "outputs": [],
   "source": [
    "l = len(locations)"
   ]
  },
  {
   "cell_type": "code",
   "execution_count": 14,
   "metadata": {},
   "outputs": [],
   "source": [
    "coords = collections.OrderedDict()\n",
    "\n",
    "for location in locations:\n",
    "    coords[location.site.string] = (float(location.lon.string),float(location.lat.string))\n",
    "\n",
    "lonlat = np.fromiter(coords.values(),dtype=[('lon','d'),('lat','d')])"
   ]
  },
  {
   "cell_type": "code",
   "execution_count": 15,
   "metadata": {},
   "outputs": [
    {
     "data": {
      "text/plain": [
       "array([(137.4416335 , -4.58946695), (137.44163349, -4.58946694),\n",
       "       (137.44163348, -4.58946693), (137.44289139, -4.59012871),\n",
       "       (137.44835136, -4.59001948), (137.44915564, -4.58947039),\n",
       "       (137.44863655, -4.5904948 ), (137.44708266, -4.59071613),\n",
       "       (137.44424994, -4.5930467 ), (137.44190734, -4.59415333),\n",
       "       (137.43987831, -4.59630915), (137.43692099, -4.59751278),\n",
       "       (137.4338162 , -4.59984147), (137.43049615, -4.60050425),\n",
       "       (137.4280327 , -4.60386136), (137.42627708, -4.60706205),\n",
       "       (137.42391457, -4.60952712), (137.42243351, -4.61177994),\n",
       "       (137.42077479, -4.61521753), (137.41944592, -4.61800093),\n",
       "       (137.41716956, -4.61998923), (137.41504573, -4.62227315),\n",
       "       (137.41312567, -4.62243505), (137.41113896, -4.62422006),\n",
       "       (137.41030857, -4.62522045), (137.40739507, -4.62672499),\n",
       "       (137.40425149, -4.62698738), (137.40049601, -4.62968937),\n",
       "       (137.39977318, -4.6325471 ), (137.40095758, -4.63475087),\n",
       "       (137.4029379 , -4.6372793 ), (137.40215725, -4.63956499),\n",
       "       (137.39880027, -4.64023316), (137.39500171, -4.64072616),\n",
       "       (137.39033938, -4.64216075), (137.38722651, -4.64529583),\n",
       "       (137.38468024, -4.64936734), (137.38414983, -4.65343099),\n",
       "       (137.38425946, -4.65622774), (137.38280119, -4.65982659),\n",
       "       (137.38094078, -4.65936434), (137.37707791, -4.66085071),\n",
       "       (137.37746357, -4.66269932), (137.37755371, -4.66297271),\n",
       "       (137.37741419, -4.66283063), (137.37548276, -4.66527786),\n",
       "       (137.37139459, -4.66687876), (137.37127349, -4.66825244),\n",
       "       (137.37003093, -4.6682628 ), (137.36917371, -4.67285084),\n",
       "       (137.36608928, -4.67687381), (137.3680066 , -4.68004699),\n",
       "       (137.36410939, -4.67762345), (137.35936377, -4.67835492),\n",
       "       (137.3579871 , -4.68003477), (137.35568389, -4.68519116),\n",
       "       (137.35337801, -4.69008009), (137.3537109 , -4.69626316),\n",
       "       (137.35601855, -4.70148039), (137.35694029, -4.70636748),\n",
       "       (137.35787433, -4.71076817), (137.36063653, -4.71329456),\n",
       "       (137.36232793, -4.71783855), (137.36544197, -4.72101769),\n",
       "       (137.37006766, -4.72167115), (137.37274226, -4.72369401),\n",
       "       (137.37419118, -4.7271588 ), (137.37710278, -4.72912831),\n",
       "       (137.37995801, -4.7255898 ), (137.37951871, -4.72427577),\n",
       "       (137.37724712, -4.72419614), (137.38019224, -4.72555933),\n",
       "       (137.37825104, -4.72760558), (137.38115698, -4.72847407),\n",
       "       (137.38191321, -4.7278966 ), (137.38348608, -4.72708017),\n",
       "       (137.38350272, -4.73090487), (137.38157235, -4.73378166),\n",
       "       (137.38087402, -4.73664473), (137.38078977, -4.73706072)],\n",
       "      dtype=[('lon', '<f8'), ('lat', '<f8')])"
      ]
     },
     "execution_count": 15,
     "metadata": {},
     "output_type": "execute_result"
    }
   ],
   "source": [
    "lonlat"
   ]
  },
  {
   "cell_type": "code",
   "execution_count": null,
   "metadata": {},
   "outputs": [],
   "source": []
  }
 ],
 "metadata": {
  "kernelspec": {
   "display_name": "Python 3",
   "language": "python",
   "name": "python3"
  },
  "language_info": {
   "codemirror_mode": {
    "name": "ipython",
    "version": 3
   },
   "file_extension": ".py",
   "mimetype": "text/x-python",
   "name": "python",
   "nbconvert_exporter": "python",
   "pygments_lexer": "ipython3",
   "version": "3.7.6"
  }
 },
 "nbformat": 4,
 "nbformat_minor": 1
}
