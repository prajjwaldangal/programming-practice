{
 "cells": [
  {
   "cell_type": "markdown",
   "metadata": {},
   "source": [
    "### Python module/package imports for this chapter"
   ]
  },
  {
   "cell_type": "code",
   "execution_count": 1,
   "metadata": {},
   "outputs": [],
   "source": [
    "import sys, math, collections, itertools, multiprocessing, gzip, dis"
   ]
  },
  {
   "cell_type": "code",
   "execution_count": 2,
   "metadata": {},
   "outputs": [],
   "source": [
    "import numpy as np\n",
    "\n",
    "import matplotlib\n",
    "import matplotlib.pyplot as pp\n",
    "\n",
    "%matplotlib inline"
   ]
  },
  {
   "cell_type": "code",
   "execution_count": 3,
   "metadata": {},
   "outputs": [],
   "source": [
    "%load_ext line_profiler\n",
    "%load_ext memory_profiler"
   ]
  },
  {
   "cell_type": "code",
   "execution_count": 15,
   "metadata": {},
   "outputs": [
    {
     "ename": "NameError",
     "evalue": "name 'numba' is not defined",
     "output_type": "error",
     "traceback": [
      "\u001b[0;31m---------------------------------------------------------------------------\u001b[0m",
      "\u001b[0;31mNameError\u001b[0m                                 Traceback (most recent call last)",
      "\u001b[0;32m<ipython-input-15-fccdfb28ab10>\u001b[0m in \u001b[0;36m<module>\u001b[0;34m\u001b[0m\n\u001b[1;32m      1\u001b[0m \u001b[0;32mfrom\u001b[0m \u001b[0mnumba\u001b[0m \u001b[0;32mimport\u001b[0m \u001b[0mjit\u001b[0m\u001b[0;34m\u001b[0m\u001b[0;34m\u001b[0m\u001b[0m\n\u001b[0;32m----> 2\u001b[0;31m \u001b[0mprint\u001b[0m\u001b[0;34m(\u001b[0m\u001b[0mnumba\u001b[0m\u001b[0;34m.\u001b[0m\u001b[0m__version__\u001b[0m\u001b[0;34m)\u001b[0m\u001b[0;34m\u001b[0m\u001b[0;34m\u001b[0m\u001b[0m\n\u001b[0m\u001b[1;32m      3\u001b[0m \u001b[0;32mfrom\u001b[0m \u001b[0mnumba\u001b[0m\u001b[0;34m.\u001b[0m\u001b[0merrors\u001b[0m \u001b[0;32mimport\u001b[0m \u001b[0mNumbaDeprecationWarning\u001b[0m\u001b[0;34m,\u001b[0m \u001b[0mNumbaPendingDeprecationWarning\u001b[0m\u001b[0;34m\u001b[0m\u001b[0;34m\u001b[0m\u001b[0m\n\u001b[1;32m      4\u001b[0m \u001b[0;32mimport\u001b[0m \u001b[0mwarnings\u001b[0m\u001b[0;34m\u001b[0m\u001b[0;34m\u001b[0m\u001b[0m\n\u001b[1;32m      5\u001b[0m \u001b[0;34m\u001b[0m\u001b[0m\n",
      "\u001b[0;31mNameError\u001b[0m: name 'numba' is not defined"
     ]
    }
   ],
   "source": [
    "import numba\n",
    "from numba import jit\n",
    "print(numba.__version__)\n",
    "from numba.errors import NumbaDeprecationWarning, NumbaPendingDeprecationWarning\n",
    "import warnings\n",
    "\n",
    "warnings.simplefilter('ignore', category=NumbaDeprecationWarning)\n",
    "warnings.simplefilter('ignore', category=NumbaPendingDeprecationWarning)"
   ]
  },
  {
   "cell_type": "code",
   "execution_count": 13,
   "metadata": {
    "collapsed": true
   },
   "outputs": [
    {
     "name": "stderr",
     "output_type": "stream",
     "text": [
      "<ipython-input-13-8b09b93898f0>:1: NumbaWarning: \n",
      "Compilation is falling back to object mode WITH looplifting enabled because Function \"run_mandel\" failed type inference due to: No implementation of function Function(<built-in function zeros>) found for signature:\n",
      " \n",
      " >>> zeros(UniTuple(Literal[int](256) x 2), Literal[str](d))\n",
      " \n",
      "There are 2 candidate implementations:\n",
      "    - Of which 2 did not match due to:\n",
      "    Overload of function 'zeros': File: numba/core/typing/npydecl.py: Line 504.\n",
      "      With argument(s): '(UniTuple(int64 x 2), unicode_type)':\n",
      "     No match.\n",
      "\n",
      "During: resolving callee type: Function(<built-in function zeros>)\n",
      "During: typing of call at <ipython-input-13-8b09b93898f0> (6)\n",
      "\n",
      "\n",
      "File \"<ipython-input-13-8b09b93898f0>\", line 6:\n",
      "def run_mandel(extent=(-2.0,1.0,-1.25,1.25),res=256,maxit=256):\n",
      "    <source elided>\n",
      "    \n",
      "    escaped = np.zeros((res,res),'d')  # escape status of points\n",
      "    ^\n",
      "\n",
      "  @jit\n",
      "<ipython-input-13-8b09b93898f0>:1: NumbaWarning: \n",
      "Compilation is falling back to object mode WITHOUT looplifting enabled because Function \"run_mandel\" failed type inference due to: cannot determine Numba type of <class 'numba.core.dispatcher.LiftedLoop'>\n",
      "\n",
      "File \"<ipython-input-13-8b09b93898f0>\", line 8:\n",
      "def run_mandel(extent=(-2.0,1.0,-1.25,1.25),res=256,maxit=256):\n",
      "    <source elided>\n",
      "    \n",
      "    for i in range(res):\n",
      "    ^\n",
      "\n",
      "  @jit\n",
      "/opt/anaconda3/envs/linkedin_course/lib/python3.7/site-packages/numba/core/object_mode_passes.py:178: NumbaWarning: Function \"run_mandel\" was compiled in object mode without forceobj=True, but has lifted loops.\n",
      "\n",
      "File \"<ipython-input-13-8b09b93898f0>\", line 3:\n",
      "def run_mandel(extent=(-2.0,1.0,-1.25,1.25),res=256,maxit=256):\n",
      "    xs = np.linspace(extent[0],extent[1],res)  # x and y arrays,\n",
      "    ^\n",
      "\n",
      "  state.func_ir.loc))\n",
      "/opt/anaconda3/envs/linkedin_course/lib/python3.7/site-packages/numba/core/object_mode_passes.py:188: NumbaDeprecationWarning: \n",
      "Fall-back from the nopython compilation path to the object mode compilation path has been detected, this is deprecated behaviour.\n",
      "\n",
      "For more information visit https://numba.pydata.org/numba-doc/latest/reference/deprecation.html#deprecation-of-object-mode-fall-back-behaviour-when-using-jit\n",
      "\n",
      "File \"<ipython-input-13-8b09b93898f0>\", line 3:\n",
      "def run_mandel(extent=(-2.0,1.0,-1.25,1.25),res=256,maxit=256):\n",
      "    xs = np.linspace(extent[0],extent[1],res)  # x and y arrays,\n",
      "    ^\n",
      "\n",
      "  state.func_ir.loc))\n"
     ]
    }
   ],
   "source": [
    "@jit\n",
    "def run_mandel(extent=(-2.0,1.0,-1.25,1.25),res=256,maxit=256):\n",
    "    xs = np.linspace(extent[0],extent[1],res)  # x and y arrays,\n",
    "    ys = np.linspace(extent[2],extent[3],res)  # equally spaced\n",
    "    \n",
    "    escaped = np.zeros((res,res),'d')  # escape status of points\n",
    "    \n",
    "    for i in range(res):\n",
    "        for j in range(res):\n",
    "            c = xs[i] + 1j * ys[j]\n",
    "            escaped[i,j] = compute_mandel(c,maxit)\n",
    "    \n",
    "    return escaped / maxit  # normalize for better plotting\n",
    "\n",
    "@jit\n",
    "def compute_mandel(c,maxit=256):\n",
    "    z = 0.0j\n",
    "\n",
    "    for it in range(1,maxit):\n",
    "        z = z*z + c\n",
    "        \n",
    "        if abs(z) > 2.0:\n",
    "            return it\n",
    "\n",
    "    return np.inf  # no escape within maxit iterations... assume never\n",
    "\n",
    "%lprun -f run_mandel run_mandel()\n"
   ]
  },
  {
   "cell_type": "code",
   "execution_count": 14,
   "metadata": {},
   "outputs": [],
   "source": [
    "@jit\n",
    "def run_mandel_numpy(extent=(-2.0,1.0,-1.25,1.25),res=256,maxit=256):\n",
    "    xs = np.linspace(extent[0],extent[1],res)  # x and y arrays,\n",
    "    ys = np.linspace(extent[2],extent[3],res)  # equally spaced\n",
    "    \n",
    "    c = xs[:,np.newaxis] + 1j*ys[np.newaxis,:]\n",
    "    \n",
    "    escaped = np.full_like(c,np.inf,'d')  # escape status of points\n",
    "\n",
    "    \n",
    "    z = np.zeros_like(c,'c16')\n",
    "    \n",
    "    for it in range(1,maxit):\n",
    "        z = z*z + c\n",
    "        \n",
    "        escaped[(escaped == np.inf) & (np.abs(z) > 2.0)] = it\n",
    "    \n",
    "    return escaped / maxit  # normalize for better plotting\n",
    "\n",
    "@jit\n",
    "def compute_mandel(c,maxit=256):\n",
    "    z = 0.0j\n",
    "\n",
    "    for it in range(1,maxit):\n",
    "        z = z*z + c\n",
    "        \n",
    "        if abs(z) > 2.0:\n",
    "            return it\n",
    "\n",
    "    return np.inf  # no escape within maxit iterations... assume never\n",
    "\n",
    "%lprun -f run_mandel run_mandel()"
   ]
  },
  {
   "cell_type": "markdown",
   "metadata": {},
   "source": [
    "## Optimizing the computation of the Mandelbrot set "
   ]
  },
  {
   "cell_type": "code",
   "execution_count": null,
   "metadata": {},
   "outputs": [],
   "source": [
    "def run_mandel(extent=(-2.0,1.0,-1.25,1.25),res=256,maxit=256):\n",
    "    xs = np.linspace(extent[0],extent[1],res)  # x and y arrays,\n",
    "    ys = np.linspace(extent[2],extent[3],res)  # equally spaced\n",
    "    \n",
    "    escaped = np.zeros((res,res),'d')  # escape status of points\n",
    "    \n",
    "    for i in range(res):\n",
    "        for j in range(res):\n",
    "            c = xs[i] + 1j * ys[j]\n",
    "            escaped[i,j] = compute_mandel(c,maxit)\n",
    "    \n",
    "    return escaped / maxit  # normalize for better plotting\n",
    "\n",
    "\n",
    "def run_mandel_numpy(extent=(-2.0,1.0,-1.25,1.25),res=256,maxit=256):\n",
    "    xs = np.linspace(extent[0],extent[1],res)  # x and y arrays,\n",
    "    ys = np.linspace(extent[2],extent[3],res)  # equally spaced\n",
    "    \n",
    "    c = xs[:,np.newaxis] + 1j*ys[np.newaxis,:]\n",
    "    \n",
    "    escaped = np.full_like(c,np.inf,'d')  # escape status of points\n",
    "\n",
    "    \n",
    "    z = np.zeros_like(c,'c16')\n",
    "    \n",
    "    for it in range(1,maxit):\n",
    "        z = z*z + c\n",
    "        \n",
    "        escaped[(escaped == np.inf) & (np.abs(z) > 2.0)] = it\n",
    "    \n",
    "    return escaped / maxit  # normalize for better plotting\n",
    "\n",
    "def compute_mandel(c,maxit=256):\n",
    "    z = 0.0j\n",
    "\n",
    "    for it in range(1,maxit):\n",
    "        z = z*z + c\n",
    "        \n",
    "        if abs(z) > 2.0:\n",
    "            return it\n",
    "\n",
    "    return np.inf  # no escape within maxit iterations... assume never"
   ]
  },
  {
   "cell_type": "code",
   "execution_count": null,
   "metadata": {},
   "outputs": [],
   "source": [
    "def plot_mandel(extent=(-2.0,1.0,-1.25,1.25),res=256,maxit=256,run_mandel=run_mandel):\n",
    "    pp.figure(figsize=(6,6))\n",
    "\n",
    "    cmap = matplotlib.cm.coolwarm\n",
    "    cmap.set_bad('k')\n",
    "\n",
    "    pp.imshow(run_mandel(extent,res,maxit).T,extent=extent,\n",
    "              cmap=cmap,norm=matplotlib.colors.PowerNorm(0.6),\n",
    "              interpolation='none',origin='lower')"
   ]
  },
  {
   "cell_type": "code",
   "execution_count": null,
   "metadata": {},
   "outputs": [],
   "source": [
    "%timeit run_mandel()"
   ]
  },
  {
   "cell_type": "code",
   "execution_count": null,
   "metadata": {},
   "outputs": [],
   "source": [
    "0.0j"
   ]
  },
  {
   "cell_type": "code",
   "execution_count": null,
   "metadata": {},
   "outputs": [],
   "source": [
    "np.seterr(all='ignore')\n",
    "%timeit run_mandel_numpy()"
   ]
  },
  {
   "cell_type": "code",
   "execution_count": null,
   "metadata": {},
   "outputs": [],
   "source": [
    "%prun run_mandel()"
   ]
  },
  {
   "cell_type": "code",
   "execution_count": null,
   "metadata": {},
   "outputs": [],
   "source": [
    "%lprun -f run_mandel run_mandel()"
   ]
  },
  {
   "cell_type": "code",
   "execution_count": null,
   "metadata": {},
   "outputs": [],
   "source": [
    "%lprun -f compute_mandel run_mandel()"
   ]
  },
  {
   "cell_type": "code",
   "execution_count": null,
   "metadata": {},
   "outputs": [],
   "source": [
    "xs = np.linspace(extent[0],extent[1],res)\n",
    "len(xs)"
   ]
  },
  {
   "cell_type": "code",
   "execution_count": null,
   "metadata": {},
   "outputs": [],
   "source": [
    "def run_mandel_numpy(extent=(-2.0,1.0,-1.25,1.25),res=256,maxit=256):\n",
    "    xs = np.linspace(extent[0],extent[1],res)  # x and y arrays,\n",
    "    ys = np.linspace(extent[2],extent[3],res)  # equally spaced\n",
    "    \n",
    "    c = xs[:,np.newaxis] + 1j*ys[np.newaxis,:]\n",
    "    \n",
    "    escaped = np.full_like(c,np.inf,'d')  # escape status of points\n",
    "\n",
    "    \n",
    "    z = np.zeros_like(c,'c16')\n",
    "    \n",
    "    for it in range(1,maxit):\n",
    "        z = z*z + c\n",
    "        \n",
    "        escaped[(escaped == np.inf) & (np.abs(z) > 2.0)] = it\n",
    "    \n",
    "    return escaped / maxit  # normalize for better plotting"
   ]
  },
  {
   "cell_type": "code",
   "execution_count": null,
   "metadata": {},
   "outputs": [],
   "source": [
    "np.seterr(all='ignore')\n",
    "%timeit run_mandel_numpy()"
   ]
  },
  {
   "cell_type": "code",
   "execution_count": null,
   "metadata": {},
   "outputs": [],
   "source": [
    "%lprun -f run_mandel_numpy run_mandel_numpy()"
   ]
  },
  {
   "cell_type": "code",
   "execution_count": null,
   "metadata": {
    "scrolled": true
   },
   "outputs": [],
   "source": [
    "# print(run_mandel_numpy() * 256)\n",
    "\n",
    "extent=(-2.0,1.0,-1.25,1.25)\n",
    "res = 256\n",
    "xs = np.linspace(extent[0],extent[1],res)  # x and y arrays,\n",
    "ys = np.linspace(extent[2],extent[3],res)  # equally spaced\n",
    "    \n",
    "c = xs[:,np.newaxis] + 1j*ys[np.newaxis,:]\n",
    "len(c), len(c[0])\n",
    "help(np.newaxis)\n",
    "c"
   ]
  },
  {
   "cell_type": "code",
   "execution_count": null,
   "metadata": {},
   "outputs": [],
   "source": [
    "plot_mandel(run_mandel=run_mandel_numpy)"
   ]
  },
  {
   "cell_type": "code",
   "execution_count": null,
   "metadata": {},
   "outputs": [],
   "source": []
  },
  {
   "cell_type": "code",
   "execution_count": null,
   "metadata": {},
   "outputs": [],
   "source": [
    "np.seterr(all='ignore')"
   ]
  },
  {
   "cell_type": "code",
   "execution_count": null,
   "metadata": {},
   "outputs": [],
   "source": [
    "%timeit run_mandel_numpy()"
   ]
  },
  {
   "cell_type": "code",
   "execution_count": null,
   "metadata": {},
   "outputs": [],
   "source": [
    "%lprun -f run_mandel_numpy run_mandel_numpy()"
   ]
  },
  {
   "cell_type": "markdown",
   "metadata": {},
   "source": [
    "**March 2020 update**: recent version of `Numba` renamed `autojit` as `jit`. In addition, the Numba compiler has problems with functions that take lists and set (which are mutable) as input. In our case, it's easy to replace the `extent` list with a tuple. "
   ]
  },
  {
   "cell_type": "code",
   "execution_count": null,
   "metadata": {},
   "outputs": [],
   "source": [
    "@jit\n",
    "def run_mandel(extent=(-2.0,1.0,-1.25,1.25),res=256,maxit=256):\n",
    "    xs = np.linspace(extent[0],extent[1],res)  # x and y arrays,\n",
    "    ys = np.linspace(extent[2],extent[3],res)  # equally spaced\n",
    "    \n",
    "    escaped = np.zeros((res,res),dtype=np.float64)  # escape status of points\n",
    "    \n",
    "    for i in range(res):\n",
    "        for j in range(res):\n",
    "            c = xs[i] + 1j * ys[j]\n",
    "            escaped[i,j] = compute_mandel(c,maxit)\n",
    "    \n",
    "    return escaped / maxit  # normalize for better plotting\n",
    "\n",
    "@jit\n",
    "def compute_mandel(c,maxit=256):\n",
    "    z = 0.0j\n",
    "\n",
    "    for it in range(1,maxit):\n",
    "        z = z*z + c\n",
    "        \n",
    "        if abs(z) > 2.0:\n",
    "            return it\n",
    "\n",
    "    return np.inf  # no escape within maxit iterations... assume never"
   ]
  },
  {
   "cell_type": "code",
   "execution_count": null,
   "metadata": {},
   "outputs": [],
   "source": [
    "%timeit run_mandel()"
   ]
  },
  {
   "cell_type": "code",
   "execution_count": null,
   "metadata": {},
   "outputs": [],
   "source": [
    "@jit\n",
    "def run_mandel_numpy(extent=(-2.0,1.0,-1.25,1.25),res=256,maxit=256):\n",
    "    xs = np.linspace(extent[0],extent[1],res)  # x and y arrays,\n",
    "    ys = np.linspace(extent[2],extent[3],res)  # equally spaced\n",
    "    \n",
    "    c = xs[:,np.newaxis] + 1j*ys[np.newaxis,:]\n",
    "    \n",
    "    escaped = np.full_like(c,np.inf,'d')  # escape status of points\n",
    "\n",
    "    \n",
    "    z = np.zeros_like(c,'c16')\n",
    "    \n",
    "    for it in range(1,maxit):\n",
    "        z = z*z + c\n",
    "        \n",
    "        escaped[(escaped == np.inf) & (np.abs(z) > 2.0)] = it\n",
    "    \n",
    "    return escaped / maxit  # normalize for better plotting"
   ]
  },
  {
   "cell_type": "code",
   "execution_count": null,
   "metadata": {},
   "outputs": [],
   "source": [
    "np.seterr(all='ignore')\n",
    "%timeit run_mandel_numpy()"
   ]
  },
  {
   "cell_type": "code",
   "execution_count": null,
   "metadata": {},
   "outputs": [],
   "source": [
    "def run_mandel_numpy(extent=(-2.0,1.0,-1.25,1.25),res=256,maxit=256):\n",
    "    xs = np.linspace(extent[0],extent[1],res)  # x and y arrays,\n",
    "    ys = np.linspace(extent[2],extent[3],res)  # equally spaced\n",
    "    \n",
    "    c = xs[:,np.newaxis] + 1j*ys[np.newaxis,:]\n",
    "    \n",
    "    escaped = np.full_like(c,np.inf,'d')  # escape status of points\n",
    "\n",
    "    \n",
    "    z = np.zeros_like(c,'c16')\n",
    "    \n",
    "    for it in range(1,maxit):\n",
    "        z = z*z + c\n",
    "        \n",
    "        escaped[(escaped == np.inf) & (np.abs(z) > 2.0)] = it\n",
    "    \n",
    "    return escaped / maxit  # normalize for better plotting"
   ]
  },
  {
   "cell_type": "code",
   "execution_count": null,
   "metadata": {},
   "outputs": [],
   "source": [
    "%timeit run_mandel_numpy()"
   ]
  },
  {
   "cell_type": "markdown",
   "metadata": {},
   "source": [
    "# 1. Noob python"
   ]
  },
  {
   "cell_type": "code",
   "execution_count": null,
   "metadata": {},
   "outputs": [],
   "source": [
    "def run_mandel(extent=(-2.0,1.0,-1.25,1.25),res=256,maxit=256):\n",
    "    xs = np.linspace(extent[0],extent[1],res)  # x and y arrays,\n",
    "    ys = np.linspace(extent[2],extent[3],res)  # equally spaced\n",
    "    \n",
    "    escaped = np.zeros((res,res),'d')  # escape status of points\n",
    "    \n",
    "    for i in range(res):\n",
    "        for j in range(res):\n",
    "            c = xs[i] + 1j * ys[j]\n",
    "            escaped[i,j] = compute_mandel(c,maxit)\n",
    "    \n",
    "    return escaped / maxit  # normalize for better plotting\n",
    "\n",
    "%timeit run_mandel()"
   ]
  },
  {
   "cell_type": "markdown",
   "metadata": {},
   "source": [
    "# 2 With numpy modifications"
   ]
  },
  {
   "cell_type": "code",
   "execution_count": null,
   "metadata": {},
   "outputs": [],
   "source": [
    "from numba.decorators import jit"
   ]
  },
  {
   "cell_type": "code",
   "execution_count": null,
   "metadata": {},
   "outputs": [],
   "source": [
    "def run_mandel_numpy(extent=(-2.0,1.0,-1.25,1.25),res=256,maxit=256):\n",
    "    xs = np.linspace(extent[0],extent[1],res)  # x and y arrays,\n",
    "    ys = np.linspace(extent[2],extent[3],res)  # equally spaced\n",
    "    \n",
    "    c = xs[:,np.newaxis] + 1j*ys[np.newaxis,:]\n",
    "    \n",
    "    escaped = np.full_like(c,np.inf,'d')  # escape status of points\n",
    "\n",
    "    \n",
    "    z = np.zeros_like(c,'c16')\n",
    "    \n",
    "    for it in range(1,maxit):\n",
    "        z = z*z + c\n",
    "        \n",
    "        escaped[(escaped == np.inf) & (np.abs(z) > 2.0)] = it\n",
    "    \n",
    "    return escaped / maxit  # normalize for better plotting\n",
    "\n",
    "%timeit run_mandel_numpy()"
   ]
  },
  {
   "cell_type": "markdown",
   "metadata": {},
   "source": [
    "# 3 With modification and numba"
   ]
  },
  {
   "cell_type": "code",
   "execution_count": null,
   "metadata": {},
   "outputs": [],
   "source": [
    "@jit('warn=False')\n",
    "def run_mandel(extent=(-2.0,1.0,-1.25,1.25),res=256,maxit=256):\n",
    "    xs = np.linspace(extent[0],extent[1],res)  # x and y arrays,\n",
    "    ys = np.linspace(extent[2],extent[3],res)  # equally spaced\n",
    "    \n",
    "    escaped = np.zeros((res,res),'d')  # escape status of points\n",
    "    \n",
    "    for i in range(res):\n",
    "        for j in range(res):\n",
    "            c = xs[i] + 1j * ys[j]\n",
    "            escaped[i,j] = compute_mandel(c,maxit)\n",
    "    \n",
    "    return escaped / maxit  # normalize for better plotting\n",
    "# numba.seterr(all='ignore')\n",
    "%timeit run_mandel()\n",
    "\n",
    "\n",
    "# %timeit run_mandel_numpy()"
   ]
  },
  {
   "cell_type": "code",
   "execution_count": null,
   "metadata": {},
   "outputs": [],
   "source": [
    "@jit\n",
    "def run_mandel_numpy(extent=(-2.0,1.0,-1.25,1.25),res=256,maxit=256):\n",
    "    xs = np.linspace(extent[0],extent[1],res)  # x and y arrays,\n",
    "    ys = np.linspace(extent[2],extent[3],res)  # equally spaced\n",
    "    \n",
    "    c = xs[:,np.newaxis] + 1j*ys[np.newaxis,:]\n",
    "    \n",
    "    escaped = np.full_like(c,np.inf,'d')  # escape status of points\n",
    "\n",
    "    \n",
    "    z = np.zeros_like(c,'c16')\n",
    "    \n",
    "    for it in range(1,maxit):\n",
    "        z = z*z + c\n",
    "        \n",
    "        escaped[(escaped == np.inf) & (np.abs(z) > 2.0)] = it\n",
    "    \n",
    "    return escaped / maxit  # normalize for better plotting\n",
    "\n",
    "%timeit run_mandel_numpy()"
   ]
  },
  {
   "cell_type": "code",
   "execution_count": null,
   "metadata": {},
   "outputs": [],
   "source": [
    "def twoSumApparentlySlow(nums, target):\n",
    "    l = len(nums)\n",
    "    if l < 2: return []\n",
    "    for i in range(l-1):\n",
    "        s1 = target-nums[i]\n",
    "        if s1 in nums[i+1:]:\n",
    "            j = nums[i+1:].index(s1)\n",
    "            return [i, i+j+1]"
   ]
  },
  {
   "cell_type": "code",
   "execution_count": null,
   "metadata": {},
   "outputs": [],
   "source": [
    "def twoSum(nums, target):\n",
    "    l = len(nums)\n",
    "    if l < 2: return []\n",
    "    dct = {}\n",
    "    for i in range(l):\n",
    "        s1 = target-nums[i]\n",
    "        if s1 in dct:\n",
    "            j = dct[s1]\n",
    "            return [j, i]\n",
    "        dct[nums[i]] = i"
   ]
  },
  {
   "cell_type": "code",
   "execution_count": null,
   "metadata": {},
   "outputs": [],
   "source": [
    "%load_ext line_profiler"
   ]
  },
  {
   "cell_type": "code",
   "execution_count": null,
   "metadata": {},
   "outputs": [],
   "source": [
    "%lprun -f twoSumApparentlySlow twoSumApparentlySlow([1,4,-2,-2,1], 0)"
   ]
  },
  {
   "cell_type": "code",
   "execution_count": null,
   "metadata": {},
   "outputs": [],
   "source": [
    "%lprun -f twoSum twoSum([1,4,-2,-2,1], 0)"
   ]
  },
  {
   "cell_type": "code",
   "execution_count": null,
   "metadata": {},
   "outputs": [],
   "source": [
    "%timeit twoSumApparentlySlow([1,4,-2,-2,1], 0)"
   ]
  },
  {
   "cell_type": "code",
   "execution_count": null,
   "metadata": {},
   "outputs": [],
   "source": [
    "%timeit twoSum([1,4,-2,-2,1], 0)"
   ]
  },
  {
   "cell_type": "code",
   "execution_count": null,
   "metadata": {},
   "outputs": [],
   "source": []
  }
 ],
 "metadata": {
  "anaconda-cloud": {},
  "kernelspec": {
   "display_name": "linkedin_course",
   "language": "python",
   "name": "linkedin_course"
  },
  "language_info": {
   "codemirror_mode": {
    "name": "ipython",
    "version": 3
   },
   "file_extension": ".py",
   "mimetype": "text/x-python",
   "name": "python",
   "nbconvert_exporter": "python",
   "pygments_lexer": "ipython3",
   "version": "3.7.9"
  }
 },
 "nbformat": 4,
 "nbformat_minor": 1
}
