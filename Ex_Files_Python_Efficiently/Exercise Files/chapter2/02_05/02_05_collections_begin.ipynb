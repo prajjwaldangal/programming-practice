{
 "cells": [
  {
   "cell_type": "markdown",
   "metadata": {
    "collapsed": true
   },
   "source": [
    "### Python module/package imports for this chapter"
   ]
  },
  {
   "cell_type": "code",
   "execution_count": 4,
   "metadata": {},
   "outputs": [],
   "source": [
    "import math, json, collections, itertools"
   ]
  },
  {
   "cell_type": "code",
   "execution_count": 5,
   "metadata": {},
   "outputs": [],
   "source": [
    "import numpy as np\n",
    "import matplotlib.pyplot as pp\n",
    "%matplotlib inline"
   ]
  },
  {
   "cell_type": "code",
   "execution_count": 6,
   "metadata": {},
   "outputs": [],
   "source": [
    "# from mpl_toolkits.basemap import Basemap\n",
    "# import geopy"
   ]
  },
  {
   "cell_type": "markdown",
   "metadata": {},
   "source": [
    "**March 2020 update**:\n",
    "\n",
    "* at 06:07 in the video: beginning in Python 3.6 for the standard CPython implementation of the language, and in Python 3.7 for the core language, the standard `dict` objects preserve the insertion order, so there's no need for `collections.OrderedDict()`; correspondingly, the dict comprehension shown at 06:34 is generated with the same order as the `OrderedDict`."
   ]
  },
  {
   "cell_type": "markdown",
   "metadata": {},
   "source": [
    "## Beyond lists, dicts, and sets: more powerful collections"
   ]
  },
  {
   "cell_type": "code",
   "execution_count": 7,
   "metadata": {},
   "outputs": [
    {
     "data": {
      "text/plain": [
       "1287"
      ]
     },
     "execution_count": 7,
     "metadata": {},
     "output_type": "execute_result"
    }
   ],
   "source": [
    "len(open('goldmedals.txt', 'r').readlines())#[:10]"
   ]
  },
  {
   "cell_type": "code",
   "execution_count": 8,
   "metadata": {},
   "outputs": [
    {
     "data": {
      "text/plain": [
       "['1896\\tThomas Burke\\tUSA\\t100m men\\n',\n",
       " '1896\\tThomas Curtis\\tUSA\\t110m hurdles men\\n',\n",
       " '1896\\tEdwin Flack\\tAUS\\t1500m men\\n',\n",
       " '1896\\tThomas Burke\\tUSA\\t400m men\\n',\n",
       " '1896\\tEdwin Flack\\tAUS\\t800m men\\n',\n",
       " '1896\\tRobert Garrett\\tUSA\\tdiscus throw men\\n',\n",
       " '1896\\tEllery Clark\\tUSA\\thigh jump men\\n',\n",
       " '1896\\tEllery Clark\\tUSA\\tlong jump men\\n',\n",
       " '1896\\tSpyridon Louis\\tGRE\\tmarathon men\\n',\n",
       " '1896\\tWilliam Welles Hoyt\\tUSA\\tpole vault men\\n']"
      ]
     },
     "execution_count": 8,
     "metadata": {},
     "output_type": "execute_result"
    }
   ],
   "source": [
    "open('goldmedals.txt', 'r').readlines()[:10]"
   ]
  },
  {
   "cell_type": "markdown",
   "metadata": {},
   "source": [
    "# collections.namedtuple"
   ]
  },
  {
   "cell_type": "code",
   "execution_count": null,
   "metadata": {},
   "outputs": [],
   "source": [
    "medal = collections.namedtuple('medals', ['year', \n",
    "                                         ])\n",
    "medals = [for line in open('goldmedals.txt', 'r')]"
   ]
  }
 ],
 "metadata": {
  "anaconda-cloud": {},
  "kernelspec": {
   "display_name": "Python 3",
   "language": "python",
   "name": "python3"
  },
  "language_info": {
   "codemirror_mode": {
    "name": "ipython",
    "version": 3
   },
   "file_extension": ".py",
   "mimetype": "text/x-python",
   "name": "python",
   "nbconvert_exporter": "python",
   "pygments_lexer": "ipython3",
   "version": "3.7.6"
  }
 },
 "nbformat": 4,
 "nbformat_minor": 1
}
